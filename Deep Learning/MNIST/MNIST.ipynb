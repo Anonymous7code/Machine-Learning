{
  "nbformat": 4,
  "nbformat_minor": 0,
  "metadata": {
    "colab": {
      "name": "MNIST ",
      "provenance": []
    },
    "kernelspec": {
      "name": "python3",
      "display_name": "Python 3"
    },
    "language_info": {
      "name": "python"
    }
  },
  "cells": [
    {
      "cell_type": "code",
      "metadata": {
        "id": "kIStLX5ab2r8"
      },
      "source": [
        "import keras\n",
        "from keras.datasets import mnist\n",
        "from keras.models import Sequential\n",
        "from keras.layers import Dense, Dropout, Flatten\n",
        "from keras.layers import Conv2D, MaxPooling2D\n",
        "from keras import backend as K\n",
        "\n"
      ],
      "execution_count": 11,
      "outputs": []
    },
    {
      "cell_type": "code",
      "metadata": {
        "id": "vAnb7OcLc1yx"
      },
      "source": [
        "(x_train, y_train), (x_test, y_test) = mnist.load_data()\n"
      ],
      "execution_count": 12,
      "outputs": []
    },
    {
      "cell_type": "code",
      "metadata": {
        "colab": {
          "base_uri": "https://localhost:8080/"
        },
        "id": "rQNNzAvJeT2M",
        "outputId": "fa39fa4e-5289-4c59-a281-ce270d21a9df"
      },
      "source": [
        "print(x_train.shape, y_train.shape)\n"
      ],
      "execution_count": 13,
      "outputs": [
        {
          "output_type": "stream",
          "text": [
            "(60000, 28, 28) (60000,)\n"
          ],
          "name": "stdout"
        }
      ]
    },
    {
      "cell_type": "code",
      "metadata": {
        "id": "CgH1MA4Xe7BN"
      },
      "source": [
        "x_train = x_train.reshape(x_train.shape[0], 28, 28, 1)\n",
        "x_test = x_test.reshape(x_test.shape[0], 28, 28, 1)\n",
        "input_shape = (28, 28, 1)"
      ],
      "execution_count": 14,
      "outputs": []
    },
    {
      "cell_type": "code",
      "metadata": {
        "id": "OTvGLdI1e-WP"
      },
      "source": [
        "# convert class vectors to binary class matrices\n",
        "y_train = keras.utils.to_categorical(y_train, 10)\n",
        "y_test = keras.utils.to_categorical(y_test, 10)"
      ],
      "execution_count": 15,
      "outputs": []
    },
    {
      "cell_type": "code",
      "metadata": {
        "colab": {
          "base_uri": "https://localhost:8080/"
        },
        "id": "LdxZ55axfAZD",
        "outputId": "3ceb9a43-10a0-4080-c349-a6f4afa1b21c"
      },
      "source": [
        "x_train = x_train.astype('float32')\n",
        "x_test = x_test.astype('float32')\n",
        "x_train /= 255\n",
        "x_test /= 255\n",
        "print('x_train shape:', x_train.shape)\n",
        "print(x_train.shape[0], 'train samples')\n",
        "print(x_test.shape[0], 'test samples')"
      ],
      "execution_count": 16,
      "outputs": [
        {
          "output_type": "stream",
          "text": [
            "x_train shape: (60000, 28, 28, 1)\n",
            "60000 train samples\n",
            "10000 test samples\n"
          ],
          "name": "stdout"
        }
      ]
    },
    {
      "cell_type": "code",
      "metadata": {
        "id": "f99hD2hnfCJu"
      },
      "source": [
        "batch_size = 100\n",
        "num_classes = 10\n",
        "epochs = 12"
      ],
      "execution_count": 17,
      "outputs": []
    },
    {
      "cell_type": "code",
      "metadata": {
        "id": "VgjXxsAdfLAY"
      },
      "source": [
        "model = Sequential()\n",
        "model.add(Conv2D(32, kernel_size=(5, 5),activation='relu',input_shape=input_shape))\n",
        "model.add(MaxPooling2D(pool_size=(2, 2)))\n",
        "model.add(Conv2D(64, (3, 3), activation='relu'))\n",
        "model.add(MaxPooling2D(pool_size=(2, 2)))\n",
        "model.add(Flatten())\n",
        "model.add(Dense(128, activation='relu'))\n",
        "model.add(Dropout(0.3))\n",
        "model.add(Dense(64, activation='relu'))\n",
        "model.add(Dropout(0.5))\n",
        "model.add(Dense(num_classes, activation='softmax'))"
      ],
      "execution_count": 18,
      "outputs": []
    },
    {
      "cell_type": "code",
      "metadata": {
        "id": "BvrrWGKCfNe6"
      },
      "source": [
        "model.compile(loss=keras.losses.categorical_crossentropy,optimizer='adam',metrics=['accuracy'])"
      ],
      "execution_count": 19,
      "outputs": []
    },
    {
      "cell_type": "code",
      "metadata": {
        "colab": {
          "base_uri": "https://localhost:8080/"
        },
        "id": "pu4mi4WxfUnv",
        "outputId": "31ec0dc2-8b42-4a2f-a94d-835e7f28fbfc"
      },
      "source": [
        "hist = model.fit(x_train, y_train,batch_size=batch_size,epochs=epochs,verbose=1,validation_data=(x_test, y_test))\n",
        "print(\"The model has successfully trained\")"
      ],
      "execution_count": 20,
      "outputs": [
        {
          "output_type": "stream",
          "text": [
            "Epoch 1/12\n",
            "600/600 [==============================] - 47s 77ms/step - loss: 0.7681 - accuracy: 0.7469 - val_loss: 0.0558 - val_accuracy: 0.9822\n",
            "Epoch 2/12\n",
            "600/600 [==============================] - 46s 77ms/step - loss: 0.1187 - accuracy: 0.9697 - val_loss: 0.0405 - val_accuracy: 0.9876\n",
            "Epoch 3/12\n",
            "600/600 [==============================] - 46s 76ms/step - loss: 0.0823 - accuracy: 0.9784 - val_loss: 0.0327 - val_accuracy: 0.9899\n",
            "Epoch 4/12\n",
            "600/600 [==============================] - 46s 77ms/step - loss: 0.0650 - accuracy: 0.9837 - val_loss: 0.0304 - val_accuracy: 0.9907\n",
            "Epoch 5/12\n",
            "600/600 [==============================] - 46s 77ms/step - loss: 0.0497 - accuracy: 0.9865 - val_loss: 0.0320 - val_accuracy: 0.9901\n",
            "Epoch 6/12\n",
            "600/600 [==============================] - 46s 76ms/step - loss: 0.0429 - accuracy: 0.9889 - val_loss: 0.0264 - val_accuracy: 0.9923\n",
            "Epoch 7/12\n",
            "600/600 [==============================] - 46s 77ms/step - loss: 0.0364 - accuracy: 0.9905 - val_loss: 0.0309 - val_accuracy: 0.9908\n",
            "Epoch 8/12\n",
            "600/600 [==============================] - 46s 76ms/step - loss: 0.0316 - accuracy: 0.9914 - val_loss: 0.0276 - val_accuracy: 0.9913\n",
            "Epoch 9/12\n",
            "600/600 [==============================] - 46s 77ms/step - loss: 0.0312 - accuracy: 0.9917 - val_loss: 0.0300 - val_accuracy: 0.9916\n",
            "Epoch 10/12\n",
            "600/600 [==============================] - 45s 76ms/step - loss: 0.0248 - accuracy: 0.9937 - val_loss: 0.0270 - val_accuracy: 0.9930\n",
            "Epoch 11/12\n",
            "600/600 [==============================] - 45s 76ms/step - loss: 0.0229 - accuracy: 0.9938 - val_loss: 0.0347 - val_accuracy: 0.9910\n",
            "Epoch 12/12\n",
            "600/600 [==============================] - 45s 75ms/step - loss: 0.0238 - accuracy: 0.9930 - val_loss: 0.0298 - val_accuracy: 0.9919\n",
            "The model has successfully trained\n"
          ],
          "name": "stdout"
        }
      ]
    },
    {
      "cell_type": "code",
      "metadata": {
        "colab": {
          "base_uri": "https://localhost:8080/"
        },
        "id": "gsj9tM-MfYmk",
        "outputId": "415bb7ee-70e2-47ca-8108-2a480f5f99d5"
      },
      "source": [
        "score = model.evaluate(x_test, y_test, verbose=0)\n",
        "print('Test loss:', score[0])\n",
        "print('Test accuracy:', score[1])"
      ],
      "execution_count": 21,
      "outputs": [
        {
          "output_type": "stream",
          "text": [
            "Test loss: 0.029753251001238823\n",
            "Test accuracy: 0.9919000267982483\n"
          ],
          "name": "stdout"
        }
      ]
    },
    {
      "cell_type": "code",
      "metadata": {
        "colab": {
          "base_uri": "https://localhost:8080/"
        },
        "id": "YD9mjTuRfb3t",
        "outputId": "81604c44-1ac6-46a6-e736-4d8109db77c7"
      },
      "source": [
        "model.save('MNIST.h5')\n",
        "print(\"Saving the model as MNIST.h5\")"
      ],
      "execution_count": 22,
      "outputs": [
        {
          "output_type": "stream",
          "text": [
            "Saving the model as MNIST.h5\n"
          ],
          "name": "stdout"
        }
      ]
    },
    {
      "cell_type": "code",
      "metadata": {
        "id": "ebuGYUIlfhF0"
      },
      "source": [
        ""
      ],
      "execution_count": null,
      "outputs": []
    }
  ]
}