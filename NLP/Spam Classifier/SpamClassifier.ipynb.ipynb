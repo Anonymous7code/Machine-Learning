{
  "nbformat": 4,
  "nbformat_minor": 0,
  "metadata": {
    "colab": {
      "name": "Untitled19.ipynb",
      "provenance": []
    },
    "kernelspec": {
      "name": "python3",
      "display_name": "Python 3"
    },
    "language_info": {
      "name": "python"
    }
  },
  "cells": [
    {
      "cell_type": "code",
      "metadata": {
        "id": "OTVRvAGAFfRE"
      },
      "source": [
        "# Importing Libraries\n",
        "import nltk\n",
        "from nltk.corpus import stopwords\n",
        "from nltk.stem.porter import PorterStemmer\n",
        "import pandas as pd\n",
        "import re\n",
        "from nltk.stem import WordNetLemmatizer\n",
        "from sklearn.model_selection import train_test_split"
      ],
      "execution_count": 1,
      "outputs": []
    },
    {
      "cell_type": "code",
      "metadata": {
        "id": "aLqnHNGqKOSZ"
      },
      "source": [
        "from sklearn.feature_extraction.text import CountVectorizer\n",
        "from sklearn.feature_extraction.text import TfidfVectorizer\n",
        "from sklearn.metrics import confusion_matrix\n",
        "from sklearn.naive_bayes import MultinomialNB\n",
        "from sklearn.metrics import accuracy_score"
      ],
      "execution_count": 2,
      "outputs": []
    },
    {
      "cell_type": "code",
      "metadata": {
        "id": "0apt1RT5F95T"
      },
      "source": [
        "message = pd.read_csv('spams',sep='\\t',names=[\"label\",\"message\"])"
      ],
      "execution_count": 3,
      "outputs": []
    },
    {
      "cell_type": "markdown",
      "metadata": {
        "id": "Iuj32O0ubtkZ"
      },
      "source": [
        "# By using Stemming"
      ]
    },
    {
      "cell_type": "code",
      "metadata": {
        "id": "On6Ba0XCGRDD"
      },
      "source": [
        "ps = PorterStemmer()"
      ],
      "execution_count": 4,
      "outputs": []
    },
    {
      "cell_type": "code",
      "metadata": {
        "colab": {
          "base_uri": "https://localhost:8080/"
        },
        "id": "tSkgJ12pHFBK",
        "outputId": "65ee608d-3e52-44c6-aa84-9e466e5f1c33"
      },
      "source": [
        "corpus = []\n",
        "nltk.download('stopwords')\n"
      ],
      "execution_count": 5,
      "outputs": [
        {
          "output_type": "stream",
          "text": [
            "[nltk_data] Downloading package stopwords to /root/nltk_data...\n",
            "[nltk_data]   Package stopwords is already up-to-date!\n"
          ],
          "name": "stdout"
        },
        {
          "output_type": "execute_result",
          "data": {
            "text/plain": [
              "True"
            ]
          },
          "metadata": {
            "tags": []
          },
          "execution_count": 5
        }
      ]
    },
    {
      "cell_type": "code",
      "metadata": {
        "id": "K4TcY9uaHIGL"
      },
      "source": [
        "for i in range(0,len(message)):\n",
        "    review = re.sub('[^a-zA-Z]',' ',message['message'][i])\n",
        "    review = review.lower()\n",
        "    review = review.split()\n",
        "    review = [ps.stem(word) for word in review if not word in set(stopwords.words('english'))]\n",
        "    review = ' '.join(review)\n",
        "    corpus.append(review)\n"
      ],
      "execution_count": 6,
      "outputs": []
    },
    {
      "cell_type": "code",
      "metadata": {
        "id": "pSHjUAQrcNsw"
      },
      "source": [
        "cv = CountVectorizer(max_features=5000)"
      ],
      "execution_count": 7,
      "outputs": []
    },
    {
      "cell_type": "code",
      "metadata": {
        "id": "UKOBJSJNcNqW"
      },
      "source": [
        "X_stem = cv.fit_transform(corpus).toarray()"
      ],
      "execution_count": 8,
      "outputs": []
    },
    {
      "cell_type": "code",
      "metadata": {
        "id": "rzSuZplAcNom"
      },
      "source": [
        "y_stem = pd.get_dummies(message['label'])\n",
        "y_stem = y_stem.iloc[:,1].values"
      ],
      "execution_count": 9,
      "outputs": []
    },
    {
      "cell_type": "code",
      "metadata": {
        "id": "6Z9WYOxEcNlG"
      },
      "source": [
        "X_stem_train,X_stem_test,y_stem_train,y_stem_test = train_test_split(X_stem,y_stem,test_size=0.2,random_state=0)"
      ],
      "execution_count": 10,
      "outputs": []
    },
    {
      "cell_type": "code",
      "metadata": {
        "id": "a5Hb7Xh4cNiW"
      },
      "source": [
        "spam_detect_model_stem = MultinomialNB().fit(X_stem_train,y_stem_train)"
      ],
      "execution_count": 11,
      "outputs": []
    },
    {
      "cell_type": "code",
      "metadata": {
        "id": "QwsRRZsAcNfu"
      },
      "source": [
        "y_stem_pred = spam_detect_model_stem.predict(X_stem_test)\n",
        "cfmtrx_stem = confusion_matrix(y_stem_test,y_stem_pred)"
      ],
      "execution_count": 12,
      "outputs": []
    },
    {
      "cell_type": "code",
      "metadata": {
        "colab": {
          "base_uri": "https://localhost:8080/"
        },
        "id": "DDs3s1necNdb",
        "outputId": "c44c7088-c779-423b-a054-2a08ce04e41b"
      },
      "source": [
        "cfmtrx_stem"
      ],
      "execution_count": 13,
      "outputs": [
        {
          "output_type": "execute_result",
          "data": {
            "text/plain": [
              "array([[946,   9],\n",
              "       [  8, 152]])"
            ]
          },
          "metadata": {
            "tags": []
          },
          "execution_count": 13
        }
      ]
    },
    {
      "cell_type": "code",
      "metadata": {
        "colab": {
          "base_uri": "https://localhost:8080/"
        },
        "id": "5ty8O5wqdB4e",
        "outputId": "03e0692f-5a6b-4c6d-c2f9-373f64b9adc4"
      },
      "source": [
        "acc_stem = accuracy_score(y_stem_test,y_stem_pred)\n",
        "acc_stem"
      ],
      "execution_count": 14,
      "outputs": [
        {
          "output_type": "execute_result",
          "data": {
            "text/plain": [
              "0.9847533632286996"
            ]
          },
          "metadata": {
            "tags": []
          },
          "execution_count": 14
        }
      ]
    },
    {
      "cell_type": "markdown",
      "metadata": {
        "id": "wqKmKL_aZbx5"
      },
      "source": [
        "#By Using Lemmatization"
      ]
    },
    {
      "cell_type": "code",
      "metadata": {
        "id": "TOT93kW3dn0o"
      },
      "source": [
        "wl = WordNetLemmatizer()"
      ],
      "execution_count": 15,
      "outputs": []
    },
    {
      "cell_type": "code",
      "metadata": {
        "colab": {
          "base_uri": "https://localhost:8080/"
        },
        "id": "psm_4-sWdnpg",
        "outputId": "7a1a2895-b377-47e2-e724-1a64de256a42"
      },
      "source": [
        "corpus2 = []\n",
        "nltk.download('wordnet')"
      ],
      "execution_count": 16,
      "outputs": [
        {
          "output_type": "stream",
          "text": [
            "[nltk_data] Downloading package wordnet to /root/nltk_data...\n",
            "[nltk_data]   Package wordnet is already up-to-date!\n"
          ],
          "name": "stdout"
        },
        {
          "output_type": "execute_result",
          "data": {
            "text/plain": [
              "True"
            ]
          },
          "metadata": {
            "tags": []
          },
          "execution_count": 16
        }
      ]
    },
    {
      "cell_type": "code",
      "metadata": {
        "id": "ZYPyjdjmZbaQ"
      },
      "source": [
        "for i in range(0,len(message)):\n",
        "    review = re.sub('[^a-zA-Z]',' ',message['message'][i])\n",
        "    review = review.lower()\n",
        "    review = review.split()\n",
        "    review = [wl.lemmatize(word) for word in review if not word in set(stopwords.words('english'))]\n",
        "    review = ' '.join(review)\n",
        "    corpus2.append(review)\n"
      ],
      "execution_count": 17,
      "outputs": []
    },
    {
      "cell_type": "code",
      "metadata": {
        "id": "7FsACpAmNl6j"
      },
      "source": [
        "tfidf = TfidfVectorizer()"
      ],
      "execution_count": 18,
      "outputs": []
    },
    {
      "cell_type": "code",
      "metadata": {
        "id": "JzbPYoNXNndT"
      },
      "source": [
        "X_lemm = cv.fit_transform(corpus2).toarray()"
      ],
      "execution_count": 19,
      "outputs": []
    },
    {
      "cell_type": "code",
      "metadata": {
        "id": "lI6ZrjhvNtFC"
      },
      "source": [
        "y_lemm = pd.get_dummies(message['label'])\n",
        "y_lemm = y_lemm.iloc[:,1].values"
      ],
      "execution_count": 20,
      "outputs": []
    },
    {
      "cell_type": "code",
      "metadata": {
        "id": "w5OypBFIOTB6"
      },
      "source": [
        "X_lemm_train,X_lemm_test,y_lemm_train,y_lemm_test = train_test_split(X_lemm,y_lemm,test_size=0.2,random_state=0)\n"
      ],
      "execution_count": 21,
      "outputs": []
    },
    {
      "cell_type": "code",
      "metadata": {
        "id": "5U3bBsRhN0Sk"
      },
      "source": [
        "spam_detect_model_lemm = MultinomialNB().fit(X_lemm_train,y_lemm_train)\n"
      ],
      "execution_count": 22,
      "outputs": []
    },
    {
      "cell_type": "code",
      "metadata": {
        "id": "iY8ch1K1X9Z-"
      },
      "source": [
        "y_lemm_pred = spam_detect_model_lemm.predict(X_lemm_test)\n"
      ],
      "execution_count": 23,
      "outputs": []
    },
    {
      "cell_type": "code",
      "metadata": {
        "id": "KtEEo2fOY59V"
      },
      "source": [
        "cfmtrx_lemm = confusion_matrix(y_lemm_test,y_lemm_pred)\n"
      ],
      "execution_count": 24,
      "outputs": []
    },
    {
      "cell_type": "code",
      "metadata": {
        "colab": {
          "base_uri": "https://localhost:8080/"
        },
        "id": "tjiKAWaHZDRn",
        "outputId": "bd211e9c-01d3-427c-daf9-e97a1413e043"
      },
      "source": [
        "cfmtrx_lemm"
      ],
      "execution_count": 25,
      "outputs": [
        {
          "output_type": "execute_result",
          "data": {
            "text/plain": [
              "array([[944,  11],\n",
              "       [  9, 151]])"
            ]
          },
          "metadata": {
            "tags": []
          },
          "execution_count": 25
        }
      ]
    },
    {
      "cell_type": "code",
      "metadata": {
        "id": "wuwLD8T6ZFe3"
      },
      "source": [
        "accc_lemm = accuracy_score(y_lemm_test,y_lemm_pred)"
      ],
      "execution_count": 26,
      "outputs": []
    },
    {
      "cell_type": "code",
      "metadata": {
        "colab": {
          "base_uri": "https://localhost:8080/"
        },
        "id": "MP1yR9qtZP-o",
        "outputId": "79ccb7ae-2b7a-40ca-a310-358387fd0b1f"
      },
      "source": [
        "accc_lemm"
      ],
      "execution_count": 27,
      "outputs": [
        {
          "output_type": "execute_result",
          "data": {
            "text/plain": [
              "0.9820627802690582"
            ]
          },
          "metadata": {
            "tags": []
          },
          "execution_count": 27
        }
      ]
    },
    {
      "cell_type": "code",
      "metadata": {
        "colab": {
          "base_uri": "https://localhost:8080/"
        },
        "id": "whV-uy9mfk9-",
        "outputId": "cfd63dc0-c787-44a3-fd9d-529e30f04d49"
      },
      "source": [
        "acc_stem"
      ],
      "execution_count": 28,
      "outputs": [
        {
          "output_type": "execute_result",
          "data": {
            "text/plain": [
              "0.9847533632286996"
            ]
          },
          "metadata": {
            "tags": []
          },
          "execution_count": 28
        }
      ]
    }
  ]
}